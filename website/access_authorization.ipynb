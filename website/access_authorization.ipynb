{
 "cells": [
  {
   "cell_type": "code",
   "execution_count": 1,
   "metadata": {},
   "outputs": [],
   "source": [
    "import requests"
   ]
  },
  {
   "cell_type": "code",
   "execution_count": 4,
   "metadata": {},
   "outputs": [],
   "source": [
    "client_id='335365bdd98b409a8070f5e604bd375a'\n",
    "client_secret='6e8d86f2cdba40d2bc7bbd8c1e92f7b1'\n",
    "redirect_uri = 'http://localhost:3000'\n",
    "\n",
    "response = requests.post('https://accounts.spotify.com/api/token', data={'grant_type': 'client_credentials',\n",
    "                                                                            'client_id': client_id, 'client_secret': client_secret})\n",
    "access_token = response.json().get('access_token')\n",
    "headers = {'Authorization': 'Bearer '+access_token}"
   ]
  },
  {
   "cell_type": "code",
   "execution_count": null,
   "metadata": {},
   "outputs": [],
   "source": []
  }
 ],
 "metadata": {
  "kernelspec": {
   "display_name": "venv",
   "language": "python",
   "name": "python3"
  },
  "language_info": {
   "codemirror_mode": {
    "name": "ipython",
    "version": 3
   },
   "file_extension": ".py",
   "mimetype": "text/x-python",
   "name": "python",
   "nbconvert_exporter": "python",
   "pygments_lexer": "ipython3",
   "version": "3.12.0"
  }
 },
 "nbformat": 4,
 "nbformat_minor": 2
}
